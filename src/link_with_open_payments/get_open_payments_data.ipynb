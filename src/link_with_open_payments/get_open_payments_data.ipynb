{
 "cells": [
  {
   "cell_type": "code",
   "execution_count": null,
   "metadata": {},
   "outputs": [],
   "source": [
    "import pandas\n",
    "import requests\n",
    "import json\n",
    "from numpy import nan\n",
    "from typing import Optional, Tuple, MutableSet, List\n",
    "from bs4 import BeautifulSoup\n",
    "from io import StringIO"
   ]
  },
  {
   "cell_type": "code",
   "execution_count": null,
   "metadata": {},
   "outputs": [],
   "source": [
    "def _datastore_id_to_query_key(id: str) -> str:\n",
    "    url = f\"https://openpaymentsdata.cms.gov/api/1/metastore/schemas/dataset/items/{id}?show-reference-ids=false\"\n",
    "    d = json.loads(requests.get(url).text)\n",
    "    return d[\"distribution\"][0][\"identifier\"]"
   ]
  },
  {
   "cell_type": "code",
   "execution_count": null,
   "metadata": {},
   "outputs": [],
   "source": [
    "research_master_ids = ('nvfc-jcr4', '94mj-bpz5', '29v2-guh5')\n",
    "research_keys = [_datastore_id_to_query_key(i) for i in research_master_ids]"
   ]
  },
  {
   "cell_type": "code",
   "execution_count": null,
   "metadata": {},
   "outputs": [],
   "source": [
    "general_master_ids = ('ud7t-2ipu', 'qsys-b88w', 'txng-a8vj')\n",
    "general_keys = [_datastore_id_to_query_key(i) for i in general_master_ids]"
   ]
  },
  {
   "cell_type": "code",
   "execution_count": null,
   "metadata": {},
   "outputs": [],
   "source": [
    "target_companies: List[str] = pandas.read_csv(\"compareToCompanies.csv\")\\\n",
    "    ['Company']\\\n",
    "    .to_list()"
   ]
  },
  {
   "cell_type": "code",
   "execution_count": null,
   "metadata": {},
   "outputs": [],
   "source": [
    "profile_info_key = _datastore_id_to_query_key('yjhd-k7tx')\n",
    "profile_info_key"
   ]
  },
  {
   "cell_type": "code",
   "execution_count": null,
   "metadata": {},
   "outputs": [],
   "source": [
    "def _company_name_to_id(name: str) -> List[str]:\n",
    "    name = name.strip()\n",
    "\n",
    "    targets = [name]\n",
    "    if len(name.split()) > 1:\n",
    "        targets.append(name.split()[0])\n",
    "    results = []\n",
    "    url = f\"https://openpaymentsdata.cms.gov/api/1/datastore/query/{profile_info_key}\"\n",
    "    for target_name in targets:\n",
    "        payload = {\n",
    "            \"keys\": \"true\",\n",
    "            \"limit\": \"10\",\n",
    "            \"offset\": \"0\",\n",
    "            \"conditions[0][resource]\": \"t\",\n",
    "            \"conditions[0][property]\": \"entity_type\",\n",
    "            \"conditions[0][value]\": \"c\",\n",
    "            \"conditions[0][operator]\": \"=\",\n",
    "            \"conditions[1][groupOperator]\": \"or\",\n",
    "            \"conditions[1][conditions][0][resource]\": \"t\",\n",
    "            \"conditions[1][conditions][0][property]\": \"entity_name\",\n",
    "            \"conditions[1][conditions][0][value]\": f\"%%{target_name}%%\",\n",
    "            \"conditions[1][conditions][0][operator]\": \"like\",\n",
    "            \"sorts[0][property]\": \"entity_name\",\n",
    "            \"sorts[0][order]\": \"asc\"\n",
    "        }\n",
    "        r = requests.get(url, params=payload)\n",
    "        lst = r.json()[\"results\"]\n",
    "\n",
    "        out = [d[\"entity_id\"] for d in lst]\n",
    "        if len(out) == 1:\n",
    "            return out\n",
    "        \n",
    "\n",
    "    return []\n",
    "    "
   ]
  },
  {
   "cell_type": "code",
   "execution_count": null,
   "metadata": {},
   "outputs": [],
   "source": [
    "company_names_to_ids = {i: _company_name_to_id(i) for i in target_companies}"
   ]
  },
  {
   "cell_type": "code",
   "execution_count": null,
   "metadata": {},
   "outputs": [],
   "source": [
    "company_names_to_ids = {k: v[0] for k, v in company_names_to_ids.items() if len(v) == 1}"
   ]
  },
  {
   "cell_type": "code",
   "execution_count": null,
   "metadata": {},
   "outputs": [],
   "source": [
    "company_ids = set(company_names_to_ids.values())\n",
    "company_ids"
   ]
  },
  {
   "cell_type": "code",
   "execution_count": null,
   "metadata": {},
   "outputs": [],
   "source": [
    "search_col = \"applicable_manufacturer_or_applicable_gpo_making_payment_id\"\n",
    "df_general = pandas.DataFrame()\n",
    "\n",
    "for dataset_id in general_master_ids:\n",
    "    for company_id in company_ids:\n",
    "        print(company_id, \"beginning query\")\n",
    "        params = {\n",
    "            \"conditions[0][property]\": search_col,\n",
    "            \"conditions[0][value]\"   : company_id,\n",
    "            \"conditions[0][operator]\": '=',\n",
    "            \"format\"                 : 'csv'\n",
    "        }\n",
    "        url = f\"https://openpaymentsdata.cms.gov/api/1/datastore/query/{dataset_id}/0/download\"\n",
    "\n",
    "        r = requests.get(url, params=params)\n",
    "        r.raise_for_status()\n",
    "\n",
    "        tmp = pandas.read_csv(StringIO(r.text), dtype=str)\n",
    "        df_general = df_general.append(tmp)\n",
    "del search_col"
   ]
  },
  {
   "cell_type": "code",
   "execution_count": null,
   "metadata": {},
   "outputs": [],
   "source": [
    "df_general['physician_profile_id'].replace('', nan, inplace=True)\n",
    "df_general.dropna(subset=['physician_profile_id'], inplace=True)"
   ]
  },
  {
   "cell_type": "code",
   "execution_count": null,
   "metadata": {},
   "outputs": [],
   "source": [
    "df_general.reset_index(inplace=True, drop=True)\n"
   ]
  },
  {
   "cell_type": "code",
   "execution_count": null,
   "metadata": {},
   "outputs": [],
   "source": []
  },
  {
   "cell_type": "code",
   "execution_count": null,
   "metadata": {},
   "outputs": [],
   "source": [
    "df_research = pandas.DataFrame()\n",
    "\n",
    "\n",
    "search_col = \"applicable_manufacturer_or_applicable_gpo_making_payment_id\"\n",
    "\n",
    "for dataset_id in research_master_ids:\n",
    "    for company_id in company_ids:\n",
    "        print(company_id, \"beginning query\")\n",
    "        params = {\n",
    "            \"conditions[0][property]\": search_col,\n",
    "            \"conditions[0][value]\"   : company_id,\n",
    "            \"conditions[0][operator]\": '=',\n",
    "            \"format\"                 : 'csv'\n",
    "        }\n",
    "        url = f\"https://openpaymentsdata.cms.gov/api/1/datastore/query/{dataset_id}/0/download\"\n",
    "\n",
    "        r = requests.get(url, params=params)\n",
    "        r.raise_for_status()\n",
    "\n",
    "        tmp = pandas.read_csv(StringIO(r.text), dtype=str)\n",
    "\n",
    "        tmp.reset_index(drop=True, inplace=True)\n",
    "        tmp = tmp[tmp.index.notnull()]\n",
    "\n",
    "        for i in range(5): # get all 5 principal investigators into a master dataframe\n",
    "            investigator_key = f'principal_investigator_{i+1}'\n",
    "            col_name = f'{investigator_key}_profile_id'\n",
    "\n",
    "            columns_to_drop = [col for col in tmp.columns \n",
    "                if col.startswith('principal_investigator') \n",
    "                and not col.startswith(investigator_key)\n",
    "            ]\n",
    "\n",
    "            columns_to_rename = {\n",
    "                col: col.replace(investigator_key, 'principal_investigator') \n",
    "                for col in tmp.columns if col.startswith(investigator_key)\n",
    "            }\n",
    "            \n",
    "            profile_id_indexed = tmp\\\n",
    "                .drop(columns=columns_to_drop)\\\n",
    "                .rename(columns=columns_to_rename)\n",
    "\n",
    "            df_research = df_research.append(profile_id_indexed)\n",
    "\n",
    "\n",
    "del search_col"
   ]
  },
  {
   "cell_type": "code",
   "execution_count": null,
   "metadata": {},
   "outputs": [],
   "source": [
    "df_research['principal_investigator_profile_id'].replace('', nan, inplace=True)\n",
    "df_research.dropna(subset=['principal_investigator_profile_id'], inplace=True)"
   ]
  },
  {
   "cell_type": "code",
   "execution_count": null,
   "metadata": {},
   "outputs": [],
   "source": [
    "df_research.reset_index(drop=True, inplace=True)"
   ]
  },
  {
   "cell_type": "code",
   "execution_count": null,
   "metadata": {},
   "outputs": [],
   "source": [
    "target_columns = [\n",
    " 'physician_profile_id',\n",
    " 'physician_first_name',\n",
    " 'physician_middle_name',\n",
    " 'physician_last_name',\n",
    " 'physician_name_suffix',\n",
    " 'physician_specialty',\n",
    " 'recipient_primary_business_street_address_line1',\n",
    " 'recipient_primary_business_street_address_line2',\n",
    " 'recipient_city',\n",
    " 'recipient_state',\n",
    " 'recipient_zip_code',\n",
    " 'recipient_country',\n",
    " 'recipient_postal_code',\n",
    " 'physician_primary_type',\n",
    " 'total_amount_of_payment_usdollars',\n",
    " 'date_of_payment',\n",
    " 'number_of_payments_included_in_total_amount',\n",
    " 'form_of_payment_or_transfer_of_value',\n",
    " 'nature_of_payment_or_transfer_of_value',\n",
    " 'record_id',\n",
    " 'program_year',\n",
    " 'payment_publication_date',\n",
    " 'applicable_manufacturer_or_applicable_gpo_making_payment_name',\n",
    " 'applicable_manufacturer_or_applicable_gpo_making_payment_id']"
   ]
  },
  {
   "cell_type": "code",
   "execution_count": null,
   "metadata": {},
   "outputs": [],
   "source": [
    "def _research_is_a_target_column(col: str) -> bool:\n",
    "    for banned_start_name in ['physician', 'recipient']:\n",
    "        if col.startswith(banned_start_name):\n",
    "            return False\n",
    "\n",
    "    if not col.startswith('principal_investigator'):\n",
    "        return col in target_columns\n",
    "\n",
    "    return col.replace('principal_investigator', 'physician') in target_columns\\\n",
    "        or col.replace('principal_investigator', 'recipient') in target_columns\n",
    "\n",
    "def _research_rename_func(col: str) -> str:\n",
    "    if col in target_columns:\n",
    "        return col\n",
    "\n",
    "    for s in ['physician', 'recipient']:\n",
    "        if (replaced := col.replace('principal_investigator', s)) in target_columns:\n",
    "            return replaced\n",
    "    "
   ]
  },
  {
   "cell_type": "code",
   "execution_count": null,
   "metadata": {},
   "outputs": [],
   "source": [
    "research_target_columns = df_research.columns\\\n",
    "    [df_research.columns.map(_research_is_a_target_column)]\\\n",
    "    .to_list()\n",
    "\n",
    "df_research = df_research.loc[:, research_target_columns]\\\n",
    "    .rename(columns=_research_rename_func)"
   ]
  },
  {
   "cell_type": "code",
   "execution_count": null,
   "metadata": {},
   "outputs": [],
   "source": []
  },
  {
   "cell_type": "code",
   "execution_count": null,
   "metadata": {},
   "outputs": [],
   "source": [
    "specialty_codes = pandas.read_csv('../../data/util/specialty_codes.csv', comment='#', index_col=0)"
   ]
  },
  {
   "cell_type": "code",
   "execution_count": null,
   "metadata": {},
   "outputs": [],
   "source": [
    "specialty_codes.set_index(['Grouping', 'Classification', 'Specialization'], inplace=True)"
   ]
  },
  {
   "cell_type": "code",
   "execution_count": null,
   "metadata": {},
   "outputs": [],
   "source": [
    "def match_specialty_string_to_code(string: Optional[str]) -> Optional[str]:\n",
    "    if pandas.isnull(string):\n",
    "        return None\n",
    "    match = string.split('|')\n",
    "    match += [None for _ in range(3 - len(match))]\n",
    "    try:\n",
    "        return specialty_codes.at[tuple(match), 'Code']\n",
    "    except KeyError:\n",
    "        return None"
   ]
  },
  {
   "cell_type": "code",
   "execution_count": null,
   "metadata": {},
   "outputs": [],
   "source": [
    "df_general['is_research'] = False"
   ]
  },
  {
   "cell_type": "code",
   "execution_count": null,
   "metadata": {},
   "outputs": [],
   "source": [
    "df_research['is_research'] = True"
   ]
  },
  {
   "cell_type": "code",
   "execution_count": null,
   "metadata": {},
   "outputs": [],
   "source": [
    "df = df_general.loc[:, target_columns + ['is_research']]\\\n",
    "    .append(df_research)\\\n",
    "    .reset_index(drop=True)\n"
   ]
  },
  {
   "cell_type": "code",
   "execution_count": null,
   "metadata": {},
   "outputs": [],
   "source": [
    "df['specialty_code'] = df['physician_specialty'].apply(match_specialty_string_to_code)"
   ]
  },
  {
   "cell_type": "code",
   "execution_count": null,
   "metadata": {},
   "outputs": [],
   "source": [
    "df.to_csv('../../data/processed/open_payments.csv')"
   ]
  },
  {
   "cell_type": "code",
   "execution_count": null,
   "metadata": {},
   "outputs": [],
   "source": [
    "horizon = df[df['applicable_manufacturer_or_applicable_gpo_making_payment_id'] == '100000131389']"
   ]
  },
  {
   "cell_type": "code",
   "execution_count": null,
   "metadata": {},
   "outputs": [],
   "source": [
    "df[df['physician_profile_id'] == '1083708']"
   ]
  }
 ],
 "metadata": {
  "interpreter": {
   "hash": "aee8b7b246df8f9039afb4144a1f6fd8d2ca17a180786b69acc140d282b71a49"
  },
  "kernelspec": {
   "name": "python3",
   "display_name": "Python 3.9.6 64-bit"
  },
  "language_info": {
   "codemirror_mode": {
    "name": "ipython",
    "version": 3
   },
   "file_extension": ".py",
   "mimetype": "text/x-python",
   "name": "python",
   "nbconvert_exporter": "python",
   "pygments_lexer": "ipython3",
   "version": "3.9.6"
  },
  "orig_nbformat": 4
 },
 "nbformat": 4,
 "nbformat_minor": 2
}