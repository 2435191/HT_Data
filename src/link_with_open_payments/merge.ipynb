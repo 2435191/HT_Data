{
 "cells": [
  {
   "cell_type": "code",
   "execution_count": null,
   "metadata": {},
   "outputs": [],
   "source": [
    "import pandas\n",
    "import numpy"
   ]
  },
  {
   "cell_type": "code",
   "execution_count": null,
   "metadata": {},
   "outputs": [],
   "source": [
    "open_payments = pandas.read_csv('../../data/processed/open_payments.csv', index_col=0)"
   ]
  },
  {
   "cell_type": "code",
   "execution_count": null,
   "metadata": {},
   "outputs": [],
   "source": [
    "all_doctors = pandas.read_csv('../../data/processed/all.csv', index_col=0)"
   ]
  },
  {
   "cell_type": "code",
   "execution_count": null,
   "metadata": {},
   "outputs": [],
   "source": [
    "apply_func = lambda x: x.upper() if isinstance(x, str) else None\n",
    "\n",
    "open_payments['physician_first_name'] = open_payments['physician_first_name'].apply(apply_func)\n",
    "open_payments['physician_last_name' ] = open_payments['physician_last_name' ].apply(apply_func)\n",
    "\n",
    "all_doctors['first_name'] = all_doctors['first_name'].apply(apply_func)\n",
    "all_doctors['last_name' ] = all_doctors['last_name' ].apply(apply_func)"
   ]
  },
  {
   "cell_type": "code",
   "execution_count": null,
   "metadata": {},
   "outputs": [],
   "source": [
    "all_doctors = all_doctors\\\n",
    "    .groupby(['first_name', 'last_name', 'state'])\\\n",
    "    .first()\\\n",
    "    .reset_index()"
   ]
  },
  {
   "cell_type": "code",
   "execution_count": null,
   "metadata": {},
   "outputs": [],
   "source": [
    "merged = pandas.merge(\n",
    "    open_payments, \n",
    "    all_doctors.reset_index(), # preserve individual doctors in column `index`\n",
    "    how='right',\n",
    "    left_on=['physician_first_name', 'physician_last_name'],#, 'specialty_code'],\n",
    "    right_on=['first_name', 'last_name'],#, 'specialty_code']\n",
    "    suffixes=['_open_payments', None],\n",
    ")"
   ]
  },
  {
   "cell_type": "code",
   "execution_count": null,
   "metadata": {},
   "outputs": [],
   "source": [
    "merged"
   ]
  },
  {
   "cell_type": "code",
   "execution_count": null,
   "metadata": {},
   "outputs": [],
   "source": [
    "pandas.merge(\n",
    "    open_payments[open_payments['applicable_manufacturer_or_applicable_gpo_making_payment_id'] == 100000131389], \n",
    "    all_doctors.reset_index(), # preserve individual doctors in column `index`\n",
    "    how='inner',\n",
    "    left_on=['physician_first_name', 'physician_last_name'],#, 'specialty_code'],\n",
    "    right_on=['first_name', 'last_name'],#, 'specialty_code']\n",
    "    suffixes=['_open_payments', None],\n",
    ")"
   ]
  },
  {
   "cell_type": "code",
   "execution_count": null,
   "metadata": {},
   "outputs": [],
   "source": []
  },
  {
   "cell_type": "code",
   "execution_count": null,
   "metadata": {},
   "outputs": [],
   "source": [
    "horizon = merged[merged['applicable_manufacturer_or_applicable_gpo_making_payment_id'] == 100000131389]"
   ]
  },
  {
   "cell_type": "code",
   "execution_count": null,
   "metadata": {},
   "outputs": [],
   "source": [
    "horizon.groupby('physician_profile_id').first()"
   ]
  },
  {
   "cell_type": "code",
   "execution_count": null,
   "metadata": {},
   "outputs": [],
   "source": [
    "\n",
    "# how many unique doctors take money?\n",
    "for source in all_doctors['src'].unique():\n",
    "    individual_doctors_taking_money = horizon.groupby('physician_profile_id').first()\n",
    "    likely_prescribers_count = len(\n",
    "        all_doctors[(all_doctors['src'] == source)]\n",
    "    )\n",
    "    on_take = len(\n",
    "        individual_doctors_taking_money[\n",
    "            (individual_doctors_taking_money['src'] == source)\n",
    "            \n",
    "        ]\n",
    "    )\n",
    "    print(source, on_take)\n",
    "    on_take_pct = on_take / likely_prescribers_count\n",
    "    print(f\"For data from {source}, % of doctors on take is {round(on_take_pct * 100, 5)}% out of {likely_prescribers_count}\")\n",
    "\"\"\"For data from asoprs, % of doctors on take is 42.28769% out of 577\n",
    "For data from endocrinologists, % of doctors on take is 18.10437% out of 939\n",
    "For data from tepezza, % of doctors on take is 65.74468% out of 470\"\"\""
   ]
  },
  {
   "cell_type": "code",
   "execution_count": null,
   "metadata": {},
   "outputs": [],
   "source": [
    "merged.to_csv('../../data/processed/all_transactions.csv')"
   ]
  },
  {
   "cell_type": "code",
   "execution_count": null,
   "metadata": {},
   "outputs": [],
   "source": [
    "total_money = merged\\\n",
    "    .groupby('physician_profile_id')\\\n",
    "    .sum()\\\n",
    "    ['total_amount_of_payment_usdollars']"
   ]
  },
  {
   "cell_type": "code",
   "execution_count": null,
   "metadata": {},
   "outputs": [],
   "source": [
    "dates = merged\\\n",
    "    .groupby('physician_profile_id')\\\n",
    "    ['date_of_payment']\\\n",
    "    .apply(','.join)\n",
    "    "
   ]
  },
  {
   "cell_type": "code",
   "execution_count": null,
   "metadata": {},
   "outputs": [],
   "source": [
    "# get grouped paid doctors and all unpaid doctors as one\n",
    "agg = merged\\\n",
    "    .groupby('physician_profile_id')\\\n",
    "    .first()\n",
    "agg['total_money'] = total_money\n",
    "agg['dates_of_payments'] = dates\n",
    "agg = agg\\\n",
    "    .reset_index(drop=True)\\\n",
    "    .append(\n",
    "        merged[pandas.isna(merged['physician_profile_id'])]\n",
    "    )\\\n",
    "    .drop(columns=['index', 'total_amount_of_payment_usdollars', 'date_of_payment'])\\\n",
    "    .reset_index(drop=True)"
   ]
  },
  {
   "cell_type": "code",
   "execution_count": null,
   "metadata": {},
   "outputs": [],
   "source": [
    "agg"
   ]
  },
  {
   "cell_type": "code",
   "execution_count": null,
   "metadata": {},
   "outputs": [],
   "source": [
    "agg.to_csv('../../data/processed/aggregated.csv')"
   ]
  }
 ],
 "metadata": {
  "interpreter": {
   "hash": "aee8b7b246df8f9039afb4144a1f6fd8d2ca17a180786b69acc140d282b71a49"
  },
  "kernelspec": {
   "name": "python3",
   "display_name": "Python 3.9.6 64-bit"
  },
  "language_info": {
   "codemirror_mode": {
    "name": "ipython",
    "version": 3
   },
   "file_extension": ".py",
   "mimetype": "text/x-python",
   "name": "python",
   "nbconvert_exporter": "python",
   "pygments_lexer": "ipython3",
   "version": "3.9.6"
  },
  "orig_nbformat": 4
 },
 "nbformat": 4,
 "nbformat_minor": 2
}