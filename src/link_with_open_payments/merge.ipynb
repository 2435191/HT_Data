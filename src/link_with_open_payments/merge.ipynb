{
 "cells": [
  {
   "cell_type": "code",
   "execution_count": 1,
   "metadata": {},
   "outputs": [],
   "source": [
    "import pandas"
   ]
  },
  {
   "cell_type": "code",
   "execution_count": 2,
   "metadata": {},
   "outputs": [
    {
     "name": "stderr",
     "output_type": "stream",
     "text": [
      "/Library/Frameworks/Python.framework/Versions/3.8/lib/python3.8/site-packages/IPython/core/interactiveshell.py:3172: DtypeWarning: Columns (12) have mixed types.Specify dtype option on import or set low_memory=False.\n",
      "  has_raised = await self.run_ast_nodes(code_ast.body, cell_name,\n"
     ]
    }
   ],
   "source": [
    "open_payments = pandas.read_csv('../../data/processed/open_payments.csv', index_col=0)"
   ]
  },
  {
   "cell_type": "code",
   "execution_count": 3,
   "metadata": {},
   "outputs": [],
   "source": [
    "all_doctors = pandas.read_csv('../../data/processed/all.csv', index_col=0)"
   ]
  },
  {
   "cell_type": "code",
   "execution_count": 4,
   "metadata": {},
   "outputs": [],
   "source": [
    "apply_func = lambda x: x.upper() if isinstance(x, str) else None\n",
    "\n",
    "open_payments['physician_first_name'] = open_payments['physician_first_name'].apply(apply_func)\n",
    "open_payments['physician_last_name' ] = open_payments['physician_last_name' ].apply(apply_func)\n",
    "\n",
    "all_doctors['first_name'] = all_doctors['first_name'].apply(apply_func)\n",
    "all_doctors['last_name' ] = all_doctors['last_name' ].apply(apply_func)"
   ]
  },
  {
   "cell_type": "code",
   "execution_count": 5,
   "metadata": {},
   "outputs": [],
   "source": [
    "all_doctors = all_doctors\\\n",
    "    .groupby(['first_name', 'last_name', 'state'])\\\n",
    "    .first()\\\n",
    "    .reset_index()"
   ]
  },
  {
   "cell_type": "code",
   "execution_count": 6,
   "metadata": {},
   "outputs": [],
   "source": [
    "merged = pandas.merge(\n",
    "    open_payments, \n",
    "    all_doctors.reset_index(), # preserve individual doctors in column `index`\n",
    "    how='right',\n",
    "    left_on=['physician_first_name', 'physician_last_name'],#, 'specialty_code'],\n",
    "    right_on=['first_name', 'last_name'],#, 'specialty_code']\n",
    "    suffixes=['_open_payments', None]\n",
    ")"
   ]
  },
  {
   "cell_type": "code",
   "execution_count": 7,
   "metadata": {},
   "outputs": [
    {
     "name": "stdout",
     "output_type": "stream",
     "text": [
      "For data from asoprs, % of doctors on take is 42.28769% out of 577\n",
      "For data from endocrinologists, % of doctors on take is 18.10437% out of 939\n",
      "For data from tepezza, % of doctors on take is 65.74468% out of 470\n"
     ]
    }
   ],
   "source": [
    "# how many unique doctors take money?\n",
    "for source in all_doctors['src'].unique():\n",
    "    individual_doctors_taking_money = merged.groupby('physician_profile_id').first()\n",
    "    likely_prescribers_count = len(\n",
    "        all_doctors[(all_doctors['src'] == source)]\n",
    "    )\n",
    "    on_take = len(\n",
    "        individual_doctors_taking_money[\n",
    "            (individual_doctors_taking_money['src'] == source)\n",
    "            \n",
    "        ]\n",
    "    )\n",
    "    on_take_pct = on_take / likely_prescribers_count\n",
    "    print(f\"For data from {source}, % of doctors on take is {round(on_take_pct * 100, 5)}% out of {likely_prescribers_count}\")"
   ]
  },
  {
   "cell_type": "code",
   "execution_count": 8,
   "metadata": {},
   "outputs": [],
   "source": [
    "merged.to_csv('../../data/processed/all_transactions.csv')"
   ]
  },
  {
   "cell_type": "code",
   "execution_count": 9,
   "metadata": {},
   "outputs": [],
   "source": [
    "total_money = merged\\\n",
    "    .groupby('physician_profile_id')\\\n",
    "    .sum()\\\n",
    "    ['total_amount_of_payment_usdollars']"
   ]
  },
  {
   "cell_type": "code",
   "execution_count": 10,
   "metadata": {},
   "outputs": [],
   "source": [
    "dates = merged\\\n",
    "    .groupby('physician_profile_id')\\\n",
    "    ['date_of_payment']\\\n",
    "    .apply(','.join)\n",
    "    "
   ]
  },
  {
   "cell_type": "code",
   "execution_count": 11,
   "metadata": {},
   "outputs": [],
   "source": [
    "# get grouped paid doctors and all unpaid doctors as one\n",
    "agg = merged\\\n",
    "    .groupby('physician_profile_id')\\\n",
    "    .first()\n",
    "agg['total_money'] = total_money\n",
    "agg['dates_of_payments'] = dates\n",
    "agg = agg\\\n",
    "    .reset_index()\\\n",
    "    .append(\n",
    "        merged[pandas.isna(merged['physician_profile_id'])]\n",
    "    )\\\n",
    "    .drop(columns=['index', 'total_amount_of_payment_usdollars', 'date_of_payment'])"
   ]
  },
  {
   "cell_type": "code",
   "execution_count": 12,
   "metadata": {},
   "outputs": [],
   "source": [
    "agg.to_csv('/Users/eab06/Desktop/WJB/PythonProjects/HT_Data/data/processed/aggregated.csv')"
   ]
  }
 ],
 "metadata": {
  "interpreter": {
   "hash": "082e9a3bcad0a290d0001e938aa60b99250c6c2ef33a923c00b70f9826caf4b7"
  },
  "kernelspec": {
   "display_name": "Python 3.8.2 64-bit",
   "name": "python3"
  },
  "language_info": {
   "codemirror_mode": {
    "name": "ipython",
    "version": 3
   },
   "file_extension": ".py",
   "mimetype": "text/x-python",
   "name": "python",
   "nbconvert_exporter": "python",
   "pygments_lexer": "ipython3",
   "version": "3.8.2"
  },
  "orig_nbformat": 4
 },
 "nbformat": 4,
 "nbformat_minor": 2
}
