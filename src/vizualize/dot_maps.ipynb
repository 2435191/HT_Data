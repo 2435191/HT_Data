{
 "cells": [
  {
   "cell_type": "code",
   "execution_count": 1,
   "metadata": {},
   "outputs": [],
   "source": [
    "%matplotlib tk"
   ]
  },
  {
   "cell_type": "code",
   "execution_count": 2,
   "metadata": {},
   "outputs": [
    {
     "name": "stderr",
     "output_type": "stream",
     "text": [
      "/Library/Frameworks/Python.framework/Versions/3.8/lib/python3.8/site-packages/geopandas/_compat.py:106: UserWarning: The Shapely GEOS version (3.8.0-CAPI-1.13.1 ) is incompatible with the GEOS version PyGEOS was compiled with (3.9.1-CAPI-1.14.2). Conversions between both will be slow.\n",
      "  warnings.warn(\n"
     ]
    }
   ],
   "source": [
    "import matplotlib.pyplot as plt\n",
    "import geopandas as gpd\n",
    "import pandas\n",
    "import numpy as np\n",
    "import shapely\n",
    "from typing import Optional"
   ]
  },
  {
   "cell_type": "code",
   "execution_count": 3,
   "metadata": {},
   "outputs": [],
   "source": [
    "all_counties = gpd.read_file('https://www2.census.gov/geo/tiger/GENZ2018/shp/cb_2018_us_county_500k.zip')"
   ]
  },
  {
   "cell_type": "code",
   "execution_count": 4,
   "metadata": {},
   "outputs": [],
   "source": [
    "all_doctors = gpd.GeoDataFrame(\n",
    "    pandas.read_csv(\n",
    "        '/Users/eab06/Desktop/WJB/PythonProjects/HT_Data/data/processed/all_with_duplicates.csv',\n",
    "        comment='#',\n",
    "        index_col=0\n",
    "    )\n",
    ")"
   ]
  },
  {
   "cell_type": "code",
   "execution_count": 5,
   "metadata": {},
   "outputs": [],
   "source": [
    "zipcodes = gpd.read_file('https://www2.census.gov/geo/tiger/GENZ2018/shp/cb_2018_us_zcta510_500k.zip')"
   ]
  },
  {
   "cell_type": "code",
   "execution_count": 6,
   "metadata": {},
   "outputs": [],
   "source": [
    "zipcodes.set_index('ZCTA5CE10', inplace=True)"
   ]
  },
  {
   "cell_type": "code",
   "execution_count": 7,
   "metadata": {},
   "outputs": [],
   "source": [
    "def crop(gdf: gpd.GeoDataFrame) -> gpd.GeoDataFrame:\n",
    "    return gdf.cx[-130:-68, :55] # crop to roughly 48 states"
   ]
  },
  {
   "cell_type": "code",
   "execution_count": 8,
   "metadata": {},
   "outputs": [],
   "source": [
    "# approximate 48 states\n",
    "counties = crop(all_counties)"
   ]
  },
  {
   "cell_type": "code",
   "execution_count": 9,
   "metadata": {},
   "outputs": [],
   "source": [
    "counties = counties.to_crs(epsg=2163)"
   ]
  },
  {
   "cell_type": "code",
   "execution_count": 10,
   "metadata": {},
   "outputs": [],
   "source": [
    "states = counties.dissolve('STATEFP')"
   ]
  },
  {
   "cell_type": "code",
   "execution_count": 11,
   "metadata": {},
   "outputs": [],
   "source": [
    "country = states.dissolve(lambda _: True)"
   ]
  },
  {
   "cell_type": "code",
   "execution_count": 12,
   "metadata": {},
   "outputs": [],
   "source": [
    "def closest_search(postal_code: int) -> Optional[shapely.geometry.Point]: # get closest centroid for zipcode\n",
    "    try:\n",
    "        geom = zipcodes.at[postal_code, 'geometry']\n",
    "    except KeyError:\n",
    "        int_idx = (zipcodes.index - postal_code).map(abs).argmin()\n",
    "        if abs(int_idx - postal_code) > 10:\n",
    "            return None\n",
    "        idx_val = zipcodes.index[int_idx]\n",
    "        geom = zipcodes.at[idx_val, 'geometry']\n",
    "\n",
    "    return geom.centroid\n",
    "\n",
    "zipcodes.index = zipcodes.index.astype(int)\n",
    "\n",
    "# merge geometry into all_doctors by closest_search\n",
    "all_doctors['geometry'] = all_doctors['postal_code']\\\n",
    "    .apply(lambda s: np.nan if pandas.isna(s) else int(s))\\\n",
    "    .apply(closest_search) \n",
    "all_doctors = all_doctors.set_crs(4326)"
   ]
  },
  {
   "cell_type": "code",
   "execution_count": 13,
   "metadata": {},
   "outputs": [],
   "source": [
    "all_doctors = crop(all_doctors).to_crs(epsg=2163)"
   ]
  },
  {
   "cell_type": "code",
   "execution_count": 14,
   "metadata": {},
   "outputs": [],
   "source": [
    "fig, ax = plt.subplots()\n",
    "ax.xaxis.set_visible(False)\n",
    "ax.yaxis.set_visible(False)\n",
    "ax.set_title(\"Data sources in the lower 48 states\")\n",
    "\n",
    "states.plot(fc='none', lw=0.5, ec='xkcd:dark gray', ax=ax)\n",
    "counties.plot(color='none', lw=0.1, ec='gray', ax=ax)\n",
    "all_doctors.plot(column='src', categorical=True, legend=True, cmap='brg', ax=ax, markersize=1)\n",
    "\n",
    "fig.savefig('images/source_map.png', dpi=1000)"
   ]
  },
  {
   "cell_type": "code",
   "execution_count": 15,
   "metadata": {},
   "outputs": [],
   "source": [
    "def get_county(zipcode_center: shapely.geometry.Point) -> Optional[str]:\n",
    "    int_indices = counties.sindex.query(zipcode_center)\n",
    "    if len(int_indices) == 0:\n",
    "        return None\n",
    "    idx = counties.index[int_indices[0]]\n",
    "    return counties.at[idx, 'GEOID']\n",
    "all_doctors['county_code'] = all_doctors.geometry.apply(get_county)"
   ]
  },
  {
   "cell_type": "code",
   "execution_count": 16,
   "metadata": {},
   "outputs": [
    {
     "data": {
      "text/html": [
       "<div>\n",
       "<style scoped>\n",
       "    .dataframe tbody tr th:only-of-type {\n",
       "        vertical-align: middle;\n",
       "    }\n",
       "\n",
       "    .dataframe tbody tr th {\n",
       "        vertical-align: top;\n",
       "    }\n",
       "\n",
       "    .dataframe thead th {\n",
       "        text-align: right;\n",
       "    }\n",
       "</style>\n",
       "<table border=\"1\" class=\"dataframe\">\n",
       "  <thead>\n",
       "    <tr style=\"text-align: right;\">\n",
       "      <th></th>\n",
       "      <th>geometry</th>\n",
       "      <th>count</th>\n",
       "      <th>src</th>\n",
       "    </tr>\n",
       "  </thead>\n",
       "  <tbody>\n",
       "    <tr>\n",
       "      <th>0</th>\n",
       "      <td>POINT (1114623.102 -1063302.697)</td>\n",
       "      <td>1</td>\n",
       "      <td>endocrinologists</td>\n",
       "    </tr>\n",
       "    <tr>\n",
       "      <th>1</th>\n",
       "      <td>POINT (1400534.512 -1415997.541)</td>\n",
       "      <td>1</td>\n",
       "      <td>asoprs</td>\n",
       "    </tr>\n",
       "    <tr>\n",
       "      <th>2</th>\n",
       "      <td>POINT (1400534.512 -1415997.541)</td>\n",
       "      <td>1</td>\n",
       "      <td>endocrinologists</td>\n",
       "    </tr>\n",
       "    <tr>\n",
       "      <th>3</th>\n",
       "      <td>POINT (1227176.357 -1039066.253)</td>\n",
       "      <td>1</td>\n",
       "      <td>asoprs</td>\n",
       "    </tr>\n",
       "    <tr>\n",
       "      <th>4</th>\n",
       "      <td>POINT (1227176.357 -1039066.253)</td>\n",
       "      <td>1</td>\n",
       "      <td>endocrinologists</td>\n",
       "    </tr>\n",
       "    <tr>\n",
       "      <th>...</th>\n",
       "      <td>...</td>\n",
       "      <td>...</td>\n",
       "      <td>...</td>\n",
       "    </tr>\n",
       "    <tr>\n",
       "      <th>796</th>\n",
       "      <td>POINT (890348.083 -199321.864)</td>\n",
       "      <td>1</td>\n",
       "      <td>endocrinologists</td>\n",
       "    </tr>\n",
       "    <tr>\n",
       "      <th>797</th>\n",
       "      <td>POINT (964380.764 -70607.103)</td>\n",
       "      <td>1</td>\n",
       "      <td>tepezza</td>\n",
       "    </tr>\n",
       "    <tr>\n",
       "      <th>798</th>\n",
       "      <td>POINT (946924.026 -152378.652)</td>\n",
       "      <td>7</td>\n",
       "      <td>asoprs</td>\n",
       "    </tr>\n",
       "    <tr>\n",
       "      <th>799</th>\n",
       "      <td>POINT (946924.026 -152378.652)</td>\n",
       "      <td>2</td>\n",
       "      <td>endocrinologists</td>\n",
       "    </tr>\n",
       "    <tr>\n",
       "      <th>800</th>\n",
       "      <td>POINT (946924.026 -152378.652)</td>\n",
       "      <td>8</td>\n",
       "      <td>tepezza</td>\n",
       "    </tr>\n",
       "  </tbody>\n",
       "</table>\n",
       "<p>801 rows × 3 columns</p>\n",
       "</div>"
      ],
      "text/plain": [
       "                             geometry  count               src\n",
       "0    POINT (1114623.102 -1063302.697)      1  endocrinologists\n",
       "1    POINT (1400534.512 -1415997.541)      1            asoprs\n",
       "2    POINT (1400534.512 -1415997.541)      1  endocrinologists\n",
       "3    POINT (1227176.357 -1039066.253)      1            asoprs\n",
       "4    POINT (1227176.357 -1039066.253)      1  endocrinologists\n",
       "..                                ...    ...               ...\n",
       "796    POINT (890348.083 -199321.864)      1  endocrinologists\n",
       "797     POINT (964380.764 -70607.103)      1           tepezza\n",
       "798    POINT (946924.026 -152378.652)      7            asoprs\n",
       "799    POINT (946924.026 -152378.652)      2  endocrinologists\n",
       "800    POINT (946924.026 -152378.652)      8           tepezza\n",
       "\n",
       "[801 rows x 3 columns]"
      ]
     },
     "execution_count": 16,
     "metadata": {},
     "output_type": "execute_result"
    }
   ],
   "source": [
    "grouped_into_counties = gpd.GeoDataFrame(\n",
    "    all_doctors\\\n",
    "    .groupby(['county_code', 'src'])\\\n",
    "    ['geometry']\\\n",
    "    .count()\\\n",
    "    .reset_index()\\\n",
    "    .rename(columns={'geometry': 'count'})\\\n",
    "    .merge(counties, left_on='county_code', right_on='GEOID')\\\n",
    "    [['geometry', 'count', 'src']]\n",
    ")\n",
    "grouped_into_counties.geometry = grouped_into_counties.geometry.centroid\n",
    "    \n",
    "grouped_into_counties"
   ]
  },
  {
   "cell_type": "code",
   "execution_count": 17,
   "metadata": {},
   "outputs": [],
   "source": [
    "fig2, ax2 = plt.subplots()\n",
    "ax2.xaxis.set_visible(False)\n",
    "ax2.yaxis.set_visible(False)\n",
    "ax2.set_title(\"Data sources in the lower 48 states (aggregated by county)\")\n",
    "\n",
    "states.plot(fc='none', lw=0.5, ec='xkcd:dark gray', ax=ax2)\n",
    "counties.plot(color='none', lw=0.1, ec='gray', ax=ax2)\n",
    "grouped_into_counties.plot(column='src', categorical=True, legend=True, cmap='brg', ax=ax2, ec='none', alpha=0.2, markersize=grouped_into_counties['count'] * 20) # faded interiors\n",
    "grouped_into_counties.plot(column='src', categorical=True, legend=True, cmap='brg', ax=ax2, fc='none', alpha=0.5, markersize=grouped_into_counties['count'] * 20) # edges\n",
    "\n",
    "fig2.savefig('images/source_map_county_agg.png', dpi=1000)"
   ]
  }
 ],
 "metadata": {
  "interpreter": {
   "hash": "082e9a3bcad0a290d0001e938aa60b99250c6c2ef33a923c00b70f9826caf4b7"
  },
  "kernelspec": {
   "display_name": "Python 3.8.2 64-bit",
   "name": "python3"
  },
  "language_info": {
   "codemirror_mode": {
    "name": "ipython",
    "version": 3
   },
   "file_extension": ".py",
   "mimetype": "text/x-python",
   "name": "python",
   "nbconvert_exporter": "python",
   "pygments_lexer": "ipython3",
   "version": "3.8.2"
  },
  "orig_nbformat": 4
 },
 "nbformat": 4,
 "nbformat_minor": 2
}
