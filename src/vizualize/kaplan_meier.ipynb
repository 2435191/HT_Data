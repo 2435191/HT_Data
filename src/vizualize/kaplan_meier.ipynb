{
 "cells": [
  {
   "cell_type": "code",
   "execution_count": 186,
   "metadata": {},
   "outputs": [],
   "source": [
    "%matplotlib tk"
   ]
  },
  {
   "cell_type": "code",
   "execution_count": 187,
   "metadata": {},
   "outputs": [],
   "source": [
    "import pandas \n",
    "import matplotlib.pyplot as plt\n",
    "import datetime as dt\n",
    "from typing import Set\n"
   ]
  },
  {
   "cell_type": "code",
   "execution_count": 188,
   "metadata": {},
   "outputs": [],
   "source": [
    "df = pandas.read_csv(\n",
    "    '../../data/processed/all_transactions.csv',\n",
    "    index_col=0\n",
    ")"
   ]
  },
  {
   "cell_type": "code",
   "execution_count": 189,
   "metadata": {},
   "outputs": [],
   "source": [
    "df = df[df['src'] != 'endocrinologists'].copy()"
   ]
  },
  {
   "cell_type": "code",
   "execution_count": 190,
   "metadata": {},
   "outputs": [],
   "source": [
    "df.loc[:, 'payment_ts'] = df['date_of_payment'].dropna().apply(lambda s: dt.datetime.strptime(s, '%m/%d/%Y'))"
   ]
  },
  {
   "cell_type": "code",
   "execution_count": 191,
   "metadata": {},
   "outputs": [],
   "source": [
    "_ids_set: Set[str] = {i for i in df['applicable_manufacturer_or_applicable_gpo_making_payment_id'].unique() if not pandas.isna(i)}\n",
    "ids_to_names = {\n",
    "    k: df.loc[\n",
    "        df['applicable_manufacturer_or_applicable_gpo_making_payment_id'] == k, \n",
    "        'applicable_manufacturer_or_applicable_gpo_making_payment_name'\n",
    "    ].iloc[0] for k in _ids_set\n",
    "}\n",
    "del _ids_set"
   ]
  },
  {
   "cell_type": "code",
   "execution_count": 192,
   "metadata": {},
   "outputs": [],
   "source": [
    "# for each date, how many doctors are *initially*\n",
    "# contacted by company reps\n",
    "doctor_counts = df\\\n",
    "    .dropna(subset=['physician_profile_id'])\\\n",
    "    .groupby(['applicable_manufacturer_or_applicable_gpo_making_payment_id', 'physician_profile_id'])\\\n",
    "    .agg(\n",
    "        {\n",
    "            'payment_ts': 'min'\n",
    "        }\n",
    "    ) # get min contact timestamp for each doctor"
   ]
  },
  {
   "cell_type": "code",
   "execution_count": 194,
   "metadata": {},
   "outputs": [],
   "source": [
    "doctor_counts['physician_count'] = 1"
   ]
  },
  {
   "cell_type": "code",
   "execution_count": 195,
   "metadata": {},
   "outputs": [],
   "source": [
    "# get total # doctors concatenated for each date\n",
    "doctor_counts = doctor_counts\\\n",
    "    .groupby(['applicable_manufacturer_or_applicable_gpo_making_payment_id', 'payment_ts'])\\\n",
    "    .sum()"
   ]
  },
  {
   "cell_type": "code",
   "execution_count": 207,
   "metadata": {},
   "outputs": [],
   "source": [
    "start_date = pandas.Timestamp(year=2018, day=1, month=1) - dt.timedelta(days=1)"
   ]
  },
  {
   "cell_type": "code",
   "execution_count": 197,
   "metadata": {},
   "outputs": [],
   "source": [
    "payment_ids = doctor_counts.index.get_level_values(0)\n",
    "for i in payment_ids:\n",
    "    doctor_counts.loc[(i, start_date), :] = 0"
   ]
  },
  {
   "cell_type": "code",
   "execution_count": 198,
   "metadata": {},
   "outputs": [],
   "source": [
    "doctor_counts.sort_index(inplace=True)"
   ]
  },
  {
   "cell_type": "code",
   "execution_count": 199,
   "metadata": {},
   "outputs": [],
   "source": [
    "doctor_counts['physician_count_cumulative'] = doctor_counts\\\n",
    "    .groupby('applicable_manufacturer_or_applicable_gpo_making_payment_id')\\\n",
    "    .apply(lambda df: df.sort_index().cumsum())\n"
   ]
  },
  {
   "cell_type": "code",
   "execution_count": 200,
   "metadata": {},
   "outputs": [
    {
     "data": {
      "text/plain": [
       "<matplotlib.legend.Legend at 0x1283fb400>"
      ]
     },
     "execution_count": 200,
     "metadata": {},
     "output_type": "execute_result"
    }
   ],
   "source": [
    "fig1, ax1 = plt.subplots()\n",
    "fig1.set_size_inches(12, 8)\n",
    "\n",
    "initial_doctors = len(df.groupby('physician_profile_id')) \\\n",
    "        + pandas.isna(df['physician_profile_id']).sum()\n",
    "\n",
    "for i, (company_id, doctor_count_grouped_by_company) in \\\n",
    "    enumerate(doctor_counts.groupby('applicable_manufacturer_or_applicable_gpo_making_payment_id')):\n",
    "\n",
    "    company_name = ids_to_names[company_id]\n",
    "\n",
    "    doctor_count_grouped_by_company: pandas.DataFrame = doctor_count_grouped_by_company.loc[company_id]\n",
    "    ax1.step(\n",
    "        doctor_count_grouped_by_company.index, \n",
    "        initial_doctors - doctor_count_grouped_by_company['physician_count_cumulative'],\n",
    "        label=company_name,\n",
    "        color = plt.get_cmap('tab20')(i)\n",
    "    )\n",
    "\n",
    "ax1.set_ylim([0, None])\n",
    "ax1.set_title('Unpaid doctors over time')\n",
    "ax1.legend()\n",
    "#fig1.savefig(\"images/doctor_count_curve.png\", dpi=1000)\n",
    "#print(f\"doctors went from \\\n",
    "    #{initial_doctors} to \\\n",
    "    #{initial_doctors - doctor_count_grouped.at[doctor_count_grouped.index.max(), 'physician_count_cumulative']}\")"
   ]
  },
  {
   "cell_type": "code",
   "execution_count": 201,
   "metadata": {},
   "outputs": [],
   "source": [
    "_df_tmp = df.copy()\n",
    "_df_tmp['payment_count'] = 0"
   ]
  },
  {
   "cell_type": "code",
   "execution_count": 224,
   "metadata": {},
   "outputs": [],
   "source": [
    "payment_count_and_amt_grouped = _df_tmp\\\n",
    "    .dropna(subset=['physician_profile_id'])\\\n",
    "    .rename(columns={'total_amount_of_payment_usdollars': 'payment_amount'})\\\n",
    "    .groupby(['applicable_manufacturer_or_applicable_gpo_making_payment_id', 'payment_ts'])\\\n",
    "    .agg({'payment_count': 'count', 'payment_amount': 'sum'})"
   ]
  },
  {
   "cell_type": "code",
   "execution_count": 225,
   "metadata": {},
   "outputs": [],
   "source": [
    "payment_ids = payment_count_and_amt_grouped.index.get_level_values(0)\n",
    "for i in payment_ids:\n",
    "    payment_count_and_amt_grouped.loc[(i, start_date), :] = [0, 0]"
   ]
  },
  {
   "cell_type": "code",
   "execution_count": 226,
   "metadata": {},
   "outputs": [],
   "source": [
    "payment_count_and_amt_grouped.sort_index(inplace=True)"
   ]
  },
  {
   "cell_type": "code",
   "execution_count": 228,
   "metadata": {},
   "outputs": [],
   "source": [
    "\n",
    "payment_count_and_amt_grouped = payment_count_and_amt_grouped\\\n",
    "    .groupby('applicable_manufacturer_or_applicable_gpo_making_payment_id')\\\n",
    "    .apply(lambda df: df.cumsum())"
   ]
  },
  {
   "cell_type": "code",
   "execution_count": 231,
   "metadata": {},
   "outputs": [
    {
     "data": {
      "text/plain": [
       "Text(0.5, 1.0, 'Cumulative no. of payments over time')"
      ]
     },
     "execution_count": 231,
     "metadata": {},
     "output_type": "execute_result"
    }
   ],
   "source": [
    "fig2, ax2 = plt.subplots()\n",
    "fig2.set_size_inches(12, 8)\n",
    "\n",
    "for i, (company_id, payments_grouped_by_company) in \\\n",
    "    enumerate(payment_count_and_amt_grouped.groupby('applicable_manufacturer_or_applicable_gpo_making_payment_id')):\n",
    "\n",
    "    company_name = ids_to_names[company_id]\n",
    "\n",
    "    payments_grouped_by_company: pandas.DataFrame = payments_grouped_by_company.loc[company_id]\n",
    "    ax2.step(\n",
    "        payments_grouped_by_company.index, \n",
    "        payments_grouped_by_company['payment_count'],\n",
    "        label=company_name,\n",
    "        color = plt.get_cmap('tab20')(i)\n",
    "    )\n",
    "\n",
    "ax2.legend()\n",
    "ax2.set_title('Cumulative no. of payments over time')\n",
    "\n",
    "#fig2.savefig(\"images/payment_count_curve.png\", dpi=1000)"
   ]
  },
  {
   "cell_type": "code",
   "execution_count": 232,
   "metadata": {},
   "outputs": [],
   "source": [
    "fig3, ax3 = plt.subplots()\n",
    "fig3.set_size_inches(12, 8)\n",
    "\n",
    "for i, (company_id, payments_grouped_by_company) in \\\n",
    "    enumerate(payment_count_and_amt_grouped.groupby('applicable_manufacturer_or_applicable_gpo_making_payment_id')):\n",
    "\n",
    "    company_name = ids_to_names[company_id]\n",
    "\n",
    "    payments_grouped_by_company: pandas.DataFrame = payments_grouped_by_company.loc[company_id]\n",
    "    ax3.step(\n",
    "        payments_grouped_by_company.index, \n",
    "        payments_grouped_by_company['payment_amount'],\n",
    "        label=company_name,\n",
    "        color = plt.get_cmap('tab20')(i)\n",
    "    )\n",
    "\n",
    "ax3.legend()\n",
    "ax3.set_title('Cumulative payout (USD) over time')\n",
    "ax3.ticklabel_format(axis='y', style='plain')\n",
    "\n",
    "#fig3.savefig(\"images/dollars_curve.png\", dpi=1000)"
   ]
  }
 ],
 "metadata": {
  "interpreter": {
   "hash": "082e9a3bcad0a290d0001e938aa60b99250c6c2ef33a923c00b70f9826caf4b7"
  },
  "kernelspec": {
   "display_name": "Python 3.8.2 64-bit",
   "name": "python3"
  },
  "language_info": {
   "codemirror_mode": {
    "name": "ipython",
    "version": 3
   },
   "file_extension": ".py",
   "mimetype": "text/x-python",
   "name": "python",
   "nbconvert_exporter": "python",
   "pygments_lexer": "ipython3",
   "version": "3.8.2"
  },
  "orig_nbformat": 4
 },
 "nbformat": 4,
 "nbformat_minor": 2
}
