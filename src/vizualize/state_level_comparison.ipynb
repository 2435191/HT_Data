{
 "cells": [
  {
   "cell_type": "code",
   "execution_count": 1,
   "metadata": {},
   "outputs": [],
   "source": [
    "%matplotlib tk"
   ]
  },
  {
   "cell_type": "code",
   "execution_count": 2,
   "metadata": {},
   "outputs": [
    {
     "name": "stderr",
     "output_type": "stream",
     "text": [
      "/Library/Frameworks/Python.framework/Versions/3.8/lib/python3.8/site-packages/geopandas/_compat.py:106: UserWarning: The Shapely GEOS version (3.8.0-CAPI-1.13.1 ) is incompatible with the GEOS version PyGEOS was compiled with (3.9.1-CAPI-1.14.2). Conversions between both will be slow.\n",
      "  warnings.warn(\n"
     ]
    }
   ],
   "source": [
    "import geopandas as gpd\n",
    "import pandas\n",
    "import us\n",
    "from numpy import nan\n",
    "import matplotlib.pyplot as plt\n"
   ]
  },
  {
   "cell_type": "code",
   "execution_count": 3,
   "metadata": {},
   "outputs": [],
   "source": [
    "pop = pandas.read_excel(\n",
    "    'https://www2.census.gov/programs-surveys/decennial/2020/data/apportionment/apportionment-2020-table02.xlsx',\n",
    "    header=3\n",
    ")"
   ]
  },
  {
   "cell_type": "code",
   "execution_count": 4,
   "metadata": {},
   "outputs": [],
   "source": [
    "pop['state_code'] = pop['AREA'].apply(lambda x: getattr(us.states.lookup(x), 'fips', -1))"
   ]
  },
  {
   "cell_type": "code",
   "execution_count": 5,
   "metadata": {},
   "outputs": [],
   "source": [
    "pop = pop\\\n",
    "    .drop(pop[pop['state_code'] == -1].index)\\\n",
    "    .drop('This cell is intentionally blank.', axis=1, errors='ignore')\\\n",
    "    .rename(columns={'RESIDENT POPULATION (APRIL 1, 2020)': 'pop', 'AREA': 'state'})\\\n",
    "    .reset_index(drop=True)"
   ]
  },
  {
   "cell_type": "code",
   "execution_count": 6,
   "metadata": {},
   "outputs": [],
   "source": [
    "states = gpd.read_file('https://www2.census.gov/geo/tiger/GENZ2018/shp/cb_2018_us_state_500k.zip')"
   ]
  },
  {
   "cell_type": "code",
   "execution_count": 7,
   "metadata": {},
   "outputs": [],
   "source": [
    "states = states.to_crs(epsg=2163)"
   ]
  },
  {
   "cell_type": "code",
   "execution_count": 8,
   "metadata": {},
   "outputs": [],
   "source": [
    "def crop(gdf: gpd.GeoDataFrame) -> gpd.GeoDataFrame:\n",
    "    old_crs = gdf.crs\n",
    "    gdf = gdf.to_crs(4269)\n",
    "    return gdf.cx[-130:-68, :55].to_crs(old_crs) # crop to roughly 48 states"
   ]
  },
  {
   "cell_type": "code",
   "execution_count": 9,
   "metadata": {},
   "outputs": [],
   "source": [
    "states = crop(states)"
   ]
  },
  {
   "cell_type": "code",
   "execution_count": 10,
   "metadata": {},
   "outputs": [],
   "source": [
    "states = states.merge(pop, left_on='STATEFP', right_on='state_code')"
   ]
  },
  {
   "cell_type": "code",
   "execution_count": 11,
   "metadata": {},
   "outputs": [],
   "source": [
    "paid_doctors = pandas.read_csv('/Users/eab06/Desktop/WJB/PythonProjects/HT_Data/data/processed/aggregated.csv')"
   ]
  },
  {
   "cell_type": "code",
   "execution_count": 12,
   "metadata": {},
   "outputs": [],
   "source": [
    "paid_doctors['state_code'] = paid_doctors['state'].apply(lambda x: getattr(us.states.lookup(x), 'fips', -1))"
   ]
  },
  {
   "cell_type": "code",
   "execution_count": 13,
   "metadata": {},
   "outputs": [],
   "source": [
    "paid_doctors = paid_doctors[paid_doctors['src'] != 'endocrinologists']"
   ]
  },
  {
   "cell_type": "code",
   "execution_count": 14,
   "metadata": {},
   "outputs": [
    {
     "data": {
      "text/plain": [
       "0        36.81\n",
       "1       164.98\n",
       "2        25.86\n",
       "3      9245.01\n",
       "4        56.64\n",
       "        ...   \n",
       "548      28.12\n",
       "549     209.79\n",
       "550     124.65\n",
       "551      39.45\n",
       "552      25.86\n",
       "Name: total_money, Length: 553, dtype: float64"
      ]
     },
     "execution_count": 14,
     "metadata": {},
     "output_type": "execute_result"
    }
   ],
   "source": [
    "_paid_doctors_money = paid_doctors\\\n",
    "    .groupby('physician_profile_id')\\\n",
    "    ['total_money']\\\n",
    "    .sum()\\\n",
    "    .reset_index(drop=True)\n",
    "_paid_doctors_money"
   ]
  },
  {
   "cell_type": "code",
   "execution_count": 15,
   "metadata": {},
   "outputs": [],
   "source": [
    "\n",
    "paid_doctors = paid_doctors\\\n",
    "    .groupby('physician_profile_id')\\\n",
    "    .first()\\\n",
    "    .reset_index()"
   ]
  },
  {
   "cell_type": "code",
   "execution_count": 16,
   "metadata": {},
   "outputs": [],
   "source": [
    "paid_doctors['dollars'] = _paid_doctors_money"
   ]
  },
  {
   "cell_type": "code",
   "execution_count": 17,
   "metadata": {},
   "outputs": [],
   "source": [
    "states = states\\\n",
    "    .merge(paid_doctors.groupby('state_code')['dollars'].sum(),   left_on='STATEFP', right_index=True, how='left')\\\n",
    "    .merge(paid_doctors.groupby('state_code')['src'    ].count(), left_on='STATEFP', right_index=True, how='left')\\\n",
    "    .rename(columns={'dollars': 'total_payment', 'src': 'count'})"
   ]
  },
  {
   "cell_type": "code",
   "execution_count": 18,
   "metadata": {},
   "outputs": [],
   "source": [
    "states['total_payment_per_million'] = (states['total_payment'] / states['pop'] * 1E6).fillna(0)\n",
    "states['paid_doctors_per_million' ] = (states['count']         / states['pop'] * 1E6).fillna(0)"
   ]
  },
  {
   "cell_type": "code",
   "execution_count": 19,
   "metadata": {},
   "outputs": [],
   "source": [
    "all_sample = pandas.read_csv(\n",
    "    '/Users/eab06/Desktop/WJB/PythonProjects/HT_Data/data/processed/all_with_duplicates.csv',\n",
    "    index_col=0\n",
    ")"
   ]
  },
  {
   "cell_type": "code",
   "execution_count": 20,
   "metadata": {},
   "outputs": [],
   "source": [
    "all_sample = all_sample[all_sample['src'] != 'endocrinologists']"
   ]
  },
  {
   "cell_type": "code",
   "execution_count": 21,
   "metadata": {},
   "outputs": [],
   "source": [
    "all_sample = all_sample\\\n",
    "    .drop_duplicates(['first_name', 'last_name', 'state'])\\\n",
    "    .reset_index(drop=True)\\\n",
    "    .groupby('state')\\\n",
    "    .count()\\\n",
    "    .rename(columns={'src': 'count'})\\\n",
    "    ['count']"
   ]
  },
  {
   "cell_type": "code",
   "execution_count": 22,
   "metadata": {},
   "outputs": [],
   "source": [
    "all_sample.index = all_sample.index.map(lambda x: getattr(us.states.lookup(x), 'fips', -1))"
   ]
  },
  {
   "cell_type": "code",
   "execution_count": 23,
   "metadata": {},
   "outputs": [],
   "source": [
    "states = states.merge(all_sample, left_on='STATEFP', right_index=True, suffixes=(None, '_all_doctors'), how='left')"
   ]
  },
  {
   "cell_type": "code",
   "execution_count": 24,
   "metadata": {},
   "outputs": [],
   "source": [
    "states['total_doctors_per_million'] = (states['count_all_doctors'] / states['pop'] * 1E6)\n"
   ]
  },
  {
   "cell_type": "code",
   "execution_count": 25,
   "metadata": {},
   "outputs": [],
   "source": [
    "states['unpaid_doctors_per_million'] = states['total_doctors_per_million'] - states['paid_doctors_per_million']"
   ]
  },
  {
   "cell_type": "code",
   "execution_count": 26,
   "metadata": {},
   "outputs": [],
   "source": [
    "vmax = states['paid_doctors_per_million']\\\n",
    "    .append(states['total_doctors_per_million'])\\\n",
    "    .append(states['unpaid_doctors_per_million'])\\\n",
    "    .max()\n",
    "vmax = 5 # override"
   ]
  },
  {
   "cell_type": "code",
   "execution_count": 27,
   "metadata": {},
   "outputs": [],
   "source": [
    "states.loc[\n",
    "    (states['count_all_doctors'] == 0) | (pandas.isna(states['count_all_doctors'])), \n",
    "    ['total_doctors_per_million', 'unpaid_doctors_per_million', 'paid_doctors_per_million', 'total_payment_per_million']\n",
    "] = nan"
   ]
  },
  {
   "cell_type": "code",
   "execution_count": 28,
   "metadata": {},
   "outputs": [],
   "source": [
    "fig1, ax1 = plt.subplots()\n",
    "ax1.xaxis.set_visible(False)\n",
    "ax1.yaxis.set_visible(False)\n",
    "ax1.set_title('Horizon-influenced doctors in sample per million by state')\n",
    "states.plot(\n",
    "    column='paid_doctors_per_million', \n",
    "    ax=ax1, \n",
    "    ec='black', \n",
    "    lw=0.1, \n",
    "    legend=True, \n",
    "    cmap='coolwarm',\n",
    "    vmin=0,\n",
    "    vmax=vmax, \n",
    "    missing_kwds={'color': 'gray'}\n",
    ")\n",
    "fig1.savefig(\"images/corrupt_doctors_by_state.png\", dpi=1000)\n"
   ]
  },
  {
   "cell_type": "code",
   "execution_count": 29,
   "metadata": {},
   "outputs": [],
   "source": [
    "fig2, ax2 = plt.subplots()\n",
    "ax2.xaxis.set_visible(False)\n",
    "ax2.yaxis.set_visible(False)\n",
    "ax2.set_title('Total Horizon payout for sampled doctors per million by state, 2019-2020 (USD)')\n",
    "states.plot(\n",
    "    column='total_payment_per_million', \n",
    "    ax=ax2, \n",
    "    ec='black', \n",
    "    lw=0.1, \n",
    "    legend=True, \n",
    "    cmap='Greens', \n",
    "    vmin=0,\n",
    "    vmax=None,\n",
    "    missing_kwds={'color': 'gray'}\n",
    ")\n",
    "fig2.savefig(\"images/dollars_by_state.png\", dpi=1000)"
   ]
  },
  {
   "cell_type": "code",
   "execution_count": 30,
   "metadata": {},
   "outputs": [],
   "source": [
    "fig3, ax3 = plt.subplots()\n",
    "ax3.xaxis.set_visible(False)\n",
    "ax3.yaxis.set_visible(False)\n",
    "ax3.set_title('Total sampled doctors per million by state')\n",
    "states.plot(\n",
    "    column='total_doctors_per_million', \n",
    "    ax=ax3, \n",
    "    ec='black', \n",
    "    lw=0.1, \n",
    "    legend=True, \n",
    "    cmap='coolwarm', \n",
    "    vmin=0,\n",
    "    vmax=vmax,\n",
    "    missing_kwds={'color': 'gray'}\n",
    ")\n",
    "\n",
    "fig3.savefig(\"images/doctors_by_state.png\", dpi=1000)"
   ]
  },
  {
   "cell_type": "code",
   "execution_count": 31,
   "metadata": {},
   "outputs": [],
   "source": [
    "fig4, ax4 = plt.subplots()\n",
    "ax4.xaxis.set_visible(False)\n",
    "ax4.yaxis.set_visible(False)\n",
    "ax4.set_title('Total sampled doctors not taking money per million by state')\n",
    "states.plot(\n",
    "    column='unpaid_doctors_per_million', \n",
    "    ax=ax4, \n",
    "    ec='black', \n",
    "    lw=0.1, \n",
    "    legend=True, \n",
    "    cmap='coolwarm',\n",
    "    vmin=0,\n",
    "    vmax=vmax,\n",
    "    missing_kwds={'color': 'gray'}\n",
    ")\n",
    "\n",
    "fig4.savefig(\"images/not_corrupt_doctors_by_state.png\", dpi=1000)"
   ]
  },
  {
   "cell_type": "code",
   "execution_count": 32,
   "metadata": {},
   "outputs": [
    {
     "data": {
      "text/html": [
       "<div>\n",
       "<style scoped>\n",
       "    .dataframe tbody tr th:only-of-type {\n",
       "        vertical-align: middle;\n",
       "    }\n",
       "\n",
       "    .dataframe tbody tr th {\n",
       "        vertical-align: top;\n",
       "    }\n",
       "\n",
       "    .dataframe thead th {\n",
       "        text-align: right;\n",
       "    }\n",
       "</style>\n",
       "<table border=\"1\" class=\"dataframe\">\n",
       "  <thead>\n",
       "    <tr style=\"text-align: right;\">\n",
       "      <th></th>\n",
       "      <th>count</th>\n",
       "      <th>state</th>\n",
       "      <th>count_all_doctors</th>\n",
       "    </tr>\n",
       "  </thead>\n",
       "  <tbody>\n",
       "    <tr>\n",
       "      <th>0</th>\n",
       "      <td>1.0</td>\n",
       "      <td>Mississippi</td>\n",
       "      <td>5.0</td>\n",
       "    </tr>\n",
       "    <tr>\n",
       "      <th>1</th>\n",
       "      <td>14.0</td>\n",
       "      <td>North Carolina</td>\n",
       "      <td>29.0</td>\n",
       "    </tr>\n",
       "    <tr>\n",
       "      <th>2</th>\n",
       "      <td>2.0</td>\n",
       "      <td>Oklahoma</td>\n",
       "      <td>6.0</td>\n",
       "    </tr>\n",
       "    <tr>\n",
       "      <th>3</th>\n",
       "      <td>6.0</td>\n",
       "      <td>Virginia</td>\n",
       "      <td>10.0</td>\n",
       "    </tr>\n",
       "    <tr>\n",
       "      <th>4</th>\n",
       "      <td>4.0</td>\n",
       "      <td>West Virginia</td>\n",
       "      <td>8.0</td>\n",
       "    </tr>\n",
       "    <tr>\n",
       "      <th>5</th>\n",
       "      <td>3.0</td>\n",
       "      <td>Louisiana</td>\n",
       "      <td>11.0</td>\n",
       "    </tr>\n",
       "    <tr>\n",
       "      <th>6</th>\n",
       "      <td>23.0</td>\n",
       "      <td>Michigan</td>\n",
       "      <td>38.0</td>\n",
       "    </tr>\n",
       "    <tr>\n",
       "      <th>7</th>\n",
       "      <td>11.0</td>\n",
       "      <td>Massachusetts</td>\n",
       "      <td>21.0</td>\n",
       "    </tr>\n",
       "    <tr>\n",
       "      <th>8</th>\n",
       "      <td>2.0</td>\n",
       "      <td>Idaho</td>\n",
       "      <td>5.0</td>\n",
       "    </tr>\n",
       "    <tr>\n",
       "      <th>9</th>\n",
       "      <td>62.0</td>\n",
       "      <td>Florida</td>\n",
       "      <td>102.0</td>\n",
       "    </tr>\n",
       "    <tr>\n",
       "      <th>10</th>\n",
       "      <td>1.0</td>\n",
       "      <td>Nebraska</td>\n",
       "      <td>4.0</td>\n",
       "    </tr>\n",
       "    <tr>\n",
       "      <th>11</th>\n",
       "      <td>14.0</td>\n",
       "      <td>Washington</td>\n",
       "      <td>30.0</td>\n",
       "    </tr>\n",
       "    <tr>\n",
       "      <th>12</th>\n",
       "      <td>2.0</td>\n",
       "      <td>New Mexico</td>\n",
       "      <td>3.0</td>\n",
       "    </tr>\n",
       "    <tr>\n",
       "      <th>13</th>\n",
       "      <td>NaN</td>\n",
       "      <td>South Dakota</td>\n",
       "      <td>NaN</td>\n",
       "    </tr>\n",
       "    <tr>\n",
       "      <th>14</th>\n",
       "      <td>46.0</td>\n",
       "      <td>Texas</td>\n",
       "      <td>78.0</td>\n",
       "    </tr>\n",
       "    <tr>\n",
       "      <th>15</th>\n",
       "      <td>77.0</td>\n",
       "      <td>California</td>\n",
       "      <td>152.0</td>\n",
       "    </tr>\n",
       "    <tr>\n",
       "      <th>16</th>\n",
       "      <td>9.0</td>\n",
       "      <td>Alabama</td>\n",
       "      <td>8.0</td>\n",
       "    </tr>\n",
       "    <tr>\n",
       "      <th>17</th>\n",
       "      <td>18.0</td>\n",
       "      <td>Georgia</td>\n",
       "      <td>27.0</td>\n",
       "    </tr>\n",
       "    <tr>\n",
       "      <th>18</th>\n",
       "      <td>19.0</td>\n",
       "      <td>Pennsylvania</td>\n",
       "      <td>44.0</td>\n",
       "    </tr>\n",
       "    <tr>\n",
       "      <th>19</th>\n",
       "      <td>8.0</td>\n",
       "      <td>Missouri</td>\n",
       "      <td>20.0</td>\n",
       "    </tr>\n",
       "    <tr>\n",
       "      <th>20</th>\n",
       "      <td>14.0</td>\n",
       "      <td>Colorado</td>\n",
       "      <td>25.0</td>\n",
       "    </tr>\n",
       "    <tr>\n",
       "      <th>21</th>\n",
       "      <td>4.0</td>\n",
       "      <td>Utah</td>\n",
       "      <td>15.0</td>\n",
       "    </tr>\n",
       "    <tr>\n",
       "      <th>22</th>\n",
       "      <td>8.0</td>\n",
       "      <td>Tennessee</td>\n",
       "      <td>18.0</td>\n",
       "    </tr>\n",
       "    <tr>\n",
       "      <th>23</th>\n",
       "      <td>NaN</td>\n",
       "      <td>Wyoming</td>\n",
       "      <td>NaN</td>\n",
       "    </tr>\n",
       "    <tr>\n",
       "      <th>24</th>\n",
       "      <td>44.0</td>\n",
       "      <td>New York</td>\n",
       "      <td>70.0</td>\n",
       "    </tr>\n",
       "    <tr>\n",
       "      <th>25</th>\n",
       "      <td>7.0</td>\n",
       "      <td>Kansas</td>\n",
       "      <td>13.0</td>\n",
       "    </tr>\n",
       "    <tr>\n",
       "      <th>26</th>\n",
       "      <td>13.0</td>\n",
       "      <td>Nevada</td>\n",
       "      <td>25.0</td>\n",
       "    </tr>\n",
       "    <tr>\n",
       "      <th>27</th>\n",
       "      <td>24.0</td>\n",
       "      <td>Illinois</td>\n",
       "      <td>30.0</td>\n",
       "    </tr>\n",
       "    <tr>\n",
       "      <th>28</th>\n",
       "      <td>NaN</td>\n",
       "      <td>Vermont</td>\n",
       "      <td>2.0</td>\n",
       "    </tr>\n",
       "    <tr>\n",
       "      <th>29</th>\n",
       "      <td>NaN</td>\n",
       "      <td>Montana</td>\n",
       "      <td>4.0</td>\n",
       "    </tr>\n",
       "    <tr>\n",
       "      <th>30</th>\n",
       "      <td>4.0</td>\n",
       "      <td>Iowa</td>\n",
       "      <td>10.0</td>\n",
       "    </tr>\n",
       "    <tr>\n",
       "      <th>31</th>\n",
       "      <td>6.0</td>\n",
       "      <td>South Carolina</td>\n",
       "      <td>15.0</td>\n",
       "    </tr>\n",
       "    <tr>\n",
       "      <th>32</th>\n",
       "      <td>3.0</td>\n",
       "      <td>New Hampshire</td>\n",
       "      <td>5.0</td>\n",
       "    </tr>\n",
       "    <tr>\n",
       "      <th>33</th>\n",
       "      <td>15.0</td>\n",
       "      <td>Arizona</td>\n",
       "      <td>22.0</td>\n",
       "    </tr>\n",
       "    <tr>\n",
       "      <th>34</th>\n",
       "      <td>3.0</td>\n",
       "      <td>District of Columbia</td>\n",
       "      <td>5.0</td>\n",
       "    </tr>\n",
       "    <tr>\n",
       "      <th>35</th>\n",
       "      <td>7.0</td>\n",
       "      <td>New Jersey</td>\n",
       "      <td>17.0</td>\n",
       "    </tr>\n",
       "    <tr>\n",
       "      <th>36</th>\n",
       "      <td>14.0</td>\n",
       "      <td>Maryland</td>\n",
       "      <td>22.0</td>\n",
       "    </tr>\n",
       "    <tr>\n",
       "      <th>37</th>\n",
       "      <td>NaN</td>\n",
       "      <td>Maine</td>\n",
       "      <td>5.0</td>\n",
       "    </tr>\n",
       "    <tr>\n",
       "      <th>38</th>\n",
       "      <td>2.0</td>\n",
       "      <td>Delaware</td>\n",
       "      <td>3.0</td>\n",
       "    </tr>\n",
       "    <tr>\n",
       "      <th>39</th>\n",
       "      <td>1.0</td>\n",
       "      <td>Rhode Island</td>\n",
       "      <td>6.0</td>\n",
       "    </tr>\n",
       "    <tr>\n",
       "      <th>40</th>\n",
       "      <td>6.0</td>\n",
       "      <td>Kentucky</td>\n",
       "      <td>9.0</td>\n",
       "    </tr>\n",
       "    <tr>\n",
       "      <th>41</th>\n",
       "      <td>18.0</td>\n",
       "      <td>Ohio</td>\n",
       "      <td>35.0</td>\n",
       "    </tr>\n",
       "    <tr>\n",
       "      <th>42</th>\n",
       "      <td>4.0</td>\n",
       "      <td>Wisconsin</td>\n",
       "      <td>21.0</td>\n",
       "    </tr>\n",
       "    <tr>\n",
       "      <th>43</th>\n",
       "      <td>5.0</td>\n",
       "      <td>Oregon</td>\n",
       "      <td>15.0</td>\n",
       "    </tr>\n",
       "    <tr>\n",
       "      <th>44</th>\n",
       "      <td>NaN</td>\n",
       "      <td>North Dakota</td>\n",
       "      <td>NaN</td>\n",
       "    </tr>\n",
       "    <tr>\n",
       "      <th>45</th>\n",
       "      <td>4.0</td>\n",
       "      <td>Arkansas</td>\n",
       "      <td>9.0</td>\n",
       "    </tr>\n",
       "    <tr>\n",
       "      <th>46</th>\n",
       "      <td>11.0</td>\n",
       "      <td>Indiana</td>\n",
       "      <td>17.0</td>\n",
       "    </tr>\n",
       "    <tr>\n",
       "      <th>47</th>\n",
       "      <td>8.0</td>\n",
       "      <td>Minnesota</td>\n",
       "      <td>19.0</td>\n",
       "    </tr>\n",
       "    <tr>\n",
       "      <th>48</th>\n",
       "      <td>3.0</td>\n",
       "      <td>Connecticut</td>\n",
       "      <td>14.0</td>\n",
       "    </tr>\n",
       "  </tbody>\n",
       "</table>\n",
       "</div>"
      ],
      "text/plain": [
       "    count                 state  count_all_doctors\n",
       "0     1.0           Mississippi                5.0\n",
       "1    14.0        North Carolina               29.0\n",
       "2     2.0              Oklahoma                6.0\n",
       "3     6.0              Virginia               10.0\n",
       "4     4.0         West Virginia                8.0\n",
       "5     3.0             Louisiana               11.0\n",
       "6    23.0              Michigan               38.0\n",
       "7    11.0         Massachusetts               21.0\n",
       "8     2.0                 Idaho                5.0\n",
       "9    62.0               Florida              102.0\n",
       "10    1.0              Nebraska                4.0\n",
       "11   14.0            Washington               30.0\n",
       "12    2.0            New Mexico                3.0\n",
       "13    NaN          South Dakota                NaN\n",
       "14   46.0                 Texas               78.0\n",
       "15   77.0            California              152.0\n",
       "16    9.0               Alabama                8.0\n",
       "17   18.0               Georgia               27.0\n",
       "18   19.0          Pennsylvania               44.0\n",
       "19    8.0              Missouri               20.0\n",
       "20   14.0              Colorado               25.0\n",
       "21    4.0                  Utah               15.0\n",
       "22    8.0             Tennessee               18.0\n",
       "23    NaN               Wyoming                NaN\n",
       "24   44.0              New York               70.0\n",
       "25    7.0                Kansas               13.0\n",
       "26   13.0                Nevada               25.0\n",
       "27   24.0              Illinois               30.0\n",
       "28    NaN               Vermont                2.0\n",
       "29    NaN               Montana                4.0\n",
       "30    4.0                  Iowa               10.0\n",
       "31    6.0        South Carolina               15.0\n",
       "32    3.0         New Hampshire                5.0\n",
       "33   15.0               Arizona               22.0\n",
       "34    3.0  District of Columbia                5.0\n",
       "35    7.0            New Jersey               17.0\n",
       "36   14.0              Maryland               22.0\n",
       "37    NaN                 Maine                5.0\n",
       "38    2.0              Delaware                3.0\n",
       "39    1.0          Rhode Island                6.0\n",
       "40    6.0              Kentucky                9.0\n",
       "41   18.0                  Ohio               35.0\n",
       "42    4.0             Wisconsin               21.0\n",
       "43    5.0                Oregon               15.0\n",
       "44    NaN          North Dakota                NaN\n",
       "45    4.0              Arkansas                9.0\n",
       "46   11.0               Indiana               17.0\n",
       "47    8.0             Minnesota               19.0\n",
       "48    3.0           Connecticut               14.0"
      ]
     },
     "execution_count": 32,
     "metadata": {},
     "output_type": "execute_result"
    }
   ],
   "source": [
    "states[['count', 'state', 'count_all_doctors']]"
   ]
  },
  {
   "cell_type": "code",
   "execution_count": 33,
   "metadata": {},
   "outputs": [
    {
     "data": {
      "text/plain": [
       "0.5228136882129277"
      ]
     },
     "execution_count": 33,
     "metadata": {},
     "output_type": "execute_result"
    }
   ],
   "source": [
    "states['count'].sum() / states['count_all_doctors'].sum()"
   ]
  }
 ],
 "metadata": {
  "interpreter": {
   "hash": "082e9a3bcad0a290d0001e938aa60b99250c6c2ef33a923c00b70f9826caf4b7"
  },
  "kernelspec": {
   "display_name": "Python 3.8.2 64-bit",
   "name": "python3"
  },
  "language_info": {
   "codemirror_mode": {
    "name": "ipython",
    "version": 3
   },
   "file_extension": ".py",
   "mimetype": "text/x-python",
   "name": "python",
   "nbconvert_exporter": "python",
   "pygments_lexer": "ipython3",
   "version": "3.8.2"
  },
  "orig_nbformat": 4
 },
 "nbformat": 4,
 "nbformat_minor": 2
}
